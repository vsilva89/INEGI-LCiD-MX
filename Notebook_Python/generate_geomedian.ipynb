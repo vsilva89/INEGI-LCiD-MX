{
 "cells": [
  {
   "cell_type": "code",
   "execution_count": 4,
   "id": "30221872-7e41-4653-9095-a8fef57c2c17",
   "metadata": {
    "tags": []
   },
   "outputs": [],
   "source": [
    "import ee\n",
    "ee.Authenticate()\n",
    "# Initialize the Earth Engine API\n",
    "ee.Initialize()\n",
    "\n",
    "# Define a function to mask clouds using the Sentinel-2 QA band\n",
    "def maskS2clouds(image):\n",
    "    qa = image.select('QA60')\n",
    "    \n",
    "    # Bits 10 and 11 represent clouds and cirrus, respectively\n",
    "    cloud_bit_mask = 1 << 10\n",
    "    cirrus_bit_mask = 1 << 11\n",
    "\n",
    "    # Both flags should be set to zero, indicating clear conditions\n",
    "    mask = qa.bitwiseAnd(cloud_bit_mask).eq(0).And(qa.bitwiseAnd(cirrus_bit_mask).eq(0))\n",
    "    \n",
    "    return image.updateMask(mask).divide(10000)\n",
    "\n",
    "# Define the year of interest\n",
    "year = '2023'\n",
    "\n",
    "# Define the image collection and apply filters\n",
    "dataset = (ee.ImageCollection('COPERNICUS/S2_SR_HARMONIZED')\n",
    "           .filterDate(f'{year}-01-01', f'{year}-12-31')\n",
    "           .filter(ee.Filter.lt('CLOUDY_PIXEL_PERCENTAGE', 20))\n",
    "           .map(maskS2clouds))\n",
    "\n",
    "# Define visualization parameters\n",
    "visualization = {\n",
    "    'min': 0.0,\n",
    "    'max': 0.3,\n",
    "    'bands': ['B4', 'B3', 'B2'],\n",
    "}\n",
    "\n",
    "# Load the region of interest from the specified asset\n",
    "roi_medellin = ee.FeatureCollection(\"users/eeranyartrodrigo/datathonMedellin/roi_medellin\").first().geometry()\n",
    "\n",
    "# Define bands to select and the reducer for geometric median calculation\n",
    "bands = ['B2', 'B3', 'B4', 'B8', 'B11', 'B12']\n",
    "reducer = ee.Reducer.geometricMedian(6, 0.0001, 500)\n",
    "\n",
    "# Compute the geomedian image\n",
    "geomedian = dataset.select(bands).reduce(reducer).rename(bands)\n",
    "\n",
    "# Export the geomedian image to an Earth Engine asset\n",
    "export_task = ee.batch.Export.image.toAsset(\n",
    "    image=geomedian.multiply(10000).toInt16(),\n",
    "    assetId=f\"users/eeranyartrodrigo/datathonMedellin/geomediana_medellin_{year}\",\n",
    "    maxPixels=1e12,\n",
    "    region=roi_medellin,\n",
    "    scale=10\n",
    ")\n",
    "export_task.start()\n"
   ]
  },
  {
   "cell_type": "code",
   "execution_count": null,
   "id": "d7c27a37-9220-4ce5-bf26-2254f017d558",
   "metadata": {},
   "outputs": [],
   "source": []
  }
 ],
 "metadata": {
  "kernelspec": {
   "display_name": "conda_python3",
   "language": "python",
   "name": "conda_python3"
  },
  "language_info": {
   "codemirror_mode": {
    "name": "ipython",
    "version": 3
   },
   "file_extension": ".py",
   "mimetype": "text/x-python",
   "name": "python",
   "nbconvert_exporter": "python",
   "pygments_lexer": "ipython3",
   "version": "3.10.15"
  }
 },
 "nbformat": 4,
 "nbformat_minor": 5
}
